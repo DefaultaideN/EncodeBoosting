{
  "nbformat": 4,
  "nbformat_minor": 0,
  "metadata": {
    "colab": {
      "name": "encode_boosting.ipynb",
      "provenance": [],
      "collapsed_sections": [],
      "include_colab_link": true
    },
    "kernelspec": {
      "name": "python3",
      "display_name": "Python 3"
    },
    "accelerator": "GPU"
  },
  "cells": [
    {
      "cell_type": "markdown",
      "metadata": {
        "id": "view-in-github",
        "colab_type": "text"
      },
      "source": [
        "<a href=\"https://colab.research.google.com/github/DefaultaideN/EncodeBoosting/blob/main/encode_boosting.ipynb\" target=\"_parent\"><img src=\"https://colab.research.google.com/assets/colab-badge.svg\" alt=\"Open In Colab\"/></a>"
      ]
    },
    {
      "cell_type": "code",
      "metadata": {
        "id": "YEo4pDStbd3z"
      },
      "source": [
        "#!pip install seaborn\n",
        "#!pip install tensorflow\n",
        "#!pip install tf_keras_vis"
      ],
      "execution_count": null,
      "outputs": []
    },
    {
      "cell_type": "code",
      "metadata": {
        "id": "VbZCAxSJbwo9",
        "colab": {
          "base_uri": "https://localhost:8080/"
        },
        "outputId": "d0f56953-5176-438f-d8bf-4b5410beb1f6"
      },
      "source": [
        "#Load some packages\n",
        "import numpy as np\n",
        "import matplotlib.pyplot as plt\n",
        "\n",
        "import tensorflow as tf\n",
        "from tensorflow import keras\n",
        "\n",
        "print(\"Tensorflow Edition:\", tf.__version__)\n",
        "seed = 2020\n",
        "np.random.seed(seed)\n",
        "tf.random.set_seed(seed)\n",
        "print(\"Packages Loaded!\")"
      ],
      "execution_count": null,
      "outputs": [
        {
          "output_type": "stream",
          "text": [
            "Tensorflow Edition: 2.4.1\n",
            "Packages Loaded!\n"
          ],
          "name": "stdout"
        }
      ]
    },
    {
      "cell_type": "code",
      "metadata": {
        "id": "IX8vysm6bwrq",
        "colab": {
          "base_uri": "https://localhost:8080/"
        },
        "outputId": "78b6e7e6-7d79-4934-a9a0-1d1565cf8c67"
      },
      "source": [
        "#inspect GPU\n",
        "physical_devices = tf.config.experimental.list_physical_devices('GPU')\n",
        "n_GPUs = len(physical_devices)\n",
        "print(\"Num_GPUs_Available:\", n_GPUs)\n",
        "if n_GPUs>0:\n",
        "    tf.config.experimental.set_memory_growth(physical_devices[0], True)"
      ],
      "execution_count": null,
      "outputs": [
        {
          "output_type": "stream",
          "text": [
            "Num_GPUs_Available: 1\n"
          ],
          "name": "stdout"
        }
      ]
    },
    {
      "cell_type": "code",
      "metadata": {
        "id": "Pju-xSJtbwut",
        "colab": {
          "base_uri": "https://localhost:8080/"
        },
        "outputId": "013d3c3d-1c63-4b71-f7d1-e829e5517bd6"
      },
      "source": [
        "!nvidia-smi"
      ],
      "execution_count": null,
      "outputs": [
        {
          "output_type": "stream",
          "text": [
            "Tue Feb  2 13:02:22 2021       \n",
            "+-----------------------------------------------------------------------------+\n",
            "| NVIDIA-SMI 460.32.03    Driver Version: 418.67       CUDA Version: 10.1     |\n",
            "|-------------------------------+----------------------+----------------------+\n",
            "| GPU  Name        Persistence-M| Bus-Id        Disp.A | Volatile Uncorr. ECC |\n",
            "| Fan  Temp  Perf  Pwr:Usage/Cap|         Memory-Usage | GPU-Util  Compute M. |\n",
            "|                               |                      |               MIG M. |\n",
            "|===============================+======================+======================|\n",
            "|   0  Tesla T4            Off  | 00000000:00:04.0 Off |                    0 |\n",
            "| N/A   31C    P8     9W /  70W |     10MiB / 15079MiB |      0%      Default |\n",
            "|                               |                      |                 ERR! |\n",
            "+-------------------------------+----------------------+----------------------+\n",
            "                                                                               \n",
            "+-----------------------------------------------------------------------------+\n",
            "| Processes:                                                                  |\n",
            "|  GPU   GI   CI        PID   Type   Process name                  GPU Memory |\n",
            "|        ID   ID                                                   Usage      |\n",
            "|=============================================================================|\n",
            "|  No running processes found                                                 |\n",
            "+-----------------------------------------------------------------------------+\n"
          ],
          "name": "stdout"
        }
      ]
    },
    {
      "cell_type": "code",
      "metadata": {
        "id": "Ykpnejv5bwxs",
        "colab": {
          "base_uri": "https://localhost:8080/"
        },
        "outputId": "823b767d-a994-4d6b-fa8a-ed61cb063488"
      },
      "source": [
        "#load data from Google Drive\n",
        "from google.colab import drive\n",
        "drive.mount(\"/content/drive\", force_remount=True)"
      ],
      "execution_count": null,
      "outputs": [
        {
          "output_type": "stream",
          "text": [
            "Mounted at /content/drive\n"
          ],
          "name": "stdout"
        }
      ]
    },
    {
      "cell_type": "code",
      "metadata": {
        "id": "SJ93yaUebw6T"
      },
      "source": [
        "import os\n",
        "import joblib\n",
        "class train_encode_booster():\n",
        "  \n",
        "  def __init__(self, data_path, save_path):\n",
        "    self.save_path = save_path\n",
        "    self.data_path = data_path\n",
        "    self.encoded_list = []\n",
        "    self.labels_list = []\n",
        "    self.pca_model_list = []\n",
        "    self.pca_encode_list = []\n",
        "    self.data_pca_fullencode = []\n",
        "\n",
        "  def loading(self):\n",
        "    for model_no in range(4):\n",
        "      file_name = SAVE_PATH+'model_'+str(model_no)+'/pca_transformer.joblib'\n",
        "      pca_model = joblib.load(file_name)\n",
        "      self.pca_model_list.append(pca_model)\n",
        "\n",
        "      for data_part in range(3):\n",
        "        encoded_name = self.save_path+'model_'+str(model_no)+'/part'+str(data_part)+'_encode.csv'\n",
        "        single_encode = np.genfromtxt(encoded_name, delimiter=',')\n",
        "        pca_encode = pca_model.transform(single_encode[:, :-1])\n",
        "\n",
        "        self.encoded_list.append(single_encode[:, :-1])\n",
        "        self.pca_encode_list.append(pca_encode)\n",
        "        if model_no == 3:\n",
        "          self.labels_list.append(single_encode[:, -1])\n",
        "\n",
        "    for data_part in range(3):\n",
        "      whole_pca = self.pca_encode_list[0*3+data_part]\n",
        "      for model_no in range(1, 4):\n",
        "        whole_pca = np.append(whole_pca, self.pca_encode_list[model_no*3+data_part], axis=1)\n",
        "      self.data_pca_fullencode.append(whole_pca)\n",
        "\n",
        "    return\n",
        "  \n",
        "\n",
        "\n",
        "\n"
      ],
      "execution_count": null,
      "outputs": []
    },
    {
      "cell_type": "code",
      "metadata": {
        "id": "w3EMxcQVgeGI"
      },
      "source": [
        "SAVE_PATH = '/content/drive/MyDrive/paper_file/model_trained/'\r\n",
        "DATA_PATH = '/content/drive/MyDrive/paper_file/data/'\r\n",
        "NAME_LIST = ['VGG', 'Xcept', 'Efcb5', 'Res50']"
      ],
      "execution_count": null,
      "outputs": []
    },
    {
      "cell_type": "code",
      "metadata": {
        "id": "Pnp25VjYogTL"
      },
      "source": [
        "booster = train_encode_booster(DATA_PATH, SAVE_PATH)\r\n",
        "booster.loading()"
      ],
      "execution_count": null,
      "outputs": []
    },
    {
      "cell_type": "code",
      "metadata": {
        "id": "KNLUHHyrEjKr"
      },
      "source": [
        "import tensorflow as tf\r\n",
        "from tensorflow import keras\r\n",
        "import keras.layers as layers"
      ],
      "execution_count": null,
      "outputs": []
    },
    {
      "cell_type": "code",
      "metadata": {
        "id": "RtyZntRZnF2K"
      },
      "source": [
        "def convert_label(label, num):\r\n",
        "  n = label.shape[0]\r\n",
        "  y_train = np.zeros((n, num))\r\n",
        "  for i in range(n):\r\n",
        "    cate = int(label[i])\r\n",
        "    y_train[i, cate] = 1\r\n",
        "  \r\n",
        "  return y_train\r\n",
        "  \r\n",
        "X_train = booster.data_pca_fullencode[0]\r\n",
        "y_train = convert_label(booster.labels_list[0], 4)\r\n",
        "X_val = booster.data_pca_fullencode[1]\r\n",
        "y_val = convert_label(booster.labels_list[1], 4)\r\n",
        "X_test = booster.data_pca_fullencode[2]\r\n",
        "y_test = convert_label(booster.labels_list[2], 4)"
      ],
      "execution_count": null,
      "outputs": []
    },
    {
      "cell_type": "code",
      "metadata": {
        "id": "iMuBbAerLCZE"
      },
      "source": [
        "n_fullencode = booster.data_pca_fullencode[0].shape[1]\r\n",
        "final_model = keras.Sequential([\r\n",
        "    keras.Input(shape=(n_fullencode, )),\r\n",
        "    layers.BatchNormalization(),                            \r\n",
        "    layers.Dense(units=1024, activation='relu'),\r\n",
        "    layers.BatchNormalization(),\r\n",
        "    layers.Dropout(0.2),\r\n",
        "    layers.Dense(units=512, activation='relu'),\r\n",
        "    layers.BatchNormalization(),\r\n",
        "    layers.Dropout(0.5),\r\n",
        "    layers.Dense(units=256, activation='relu'),\r\n",
        "    layers.BatchNormalization(),\r\n",
        "    layers.Dropout(0.5),\r\n",
        "    layers.Dense(units=4, activation='softmax', kernel_regularizer='l1_l2'),          \r\n",
        "])"
      ],
      "execution_count": null,
      "outputs": []
    },
    {
      "cell_type": "code",
      "metadata": {
        "colab": {
          "base_uri": "https://localhost:8080/"
        },
        "id": "GNzi8w8zeI-O",
        "outputId": "b4280157-24a6-4adf-af5b-2f7bf6e18dce"
      },
      "source": [
        "final_model.compile(loss='categorical_crossentropy', optimizer='adam', metrics=['accuracy'])\r\n",
        "final_model.summary()"
      ],
      "execution_count": null,
      "outputs": [
        {
          "output_type": "stream",
          "text": [
            "Model: \"sequential\"\n",
            "_________________________________________________________________\n",
            "Layer (type)                 Output Shape              Param #   \n",
            "=================================================================\n",
            "batch_normalization (BatchNo (None, 498)               1992      \n",
            "_________________________________________________________________\n",
            "dense (Dense)                (None, 1024)              510976    \n",
            "_________________________________________________________________\n",
            "batch_normalization_1 (Batch (None, 1024)              4096      \n",
            "_________________________________________________________________\n",
            "dropout (Dropout)            (None, 1024)              0         \n",
            "_________________________________________________________________\n",
            "dense_1 (Dense)              (None, 512)               524800    \n",
            "_________________________________________________________________\n",
            "batch_normalization_2 (Batch (None, 512)               2048      \n",
            "_________________________________________________________________\n",
            "dropout_1 (Dropout)          (None, 512)               0         \n",
            "_________________________________________________________________\n",
            "dense_2 (Dense)              (None, 256)               131328    \n",
            "_________________________________________________________________\n",
            "batch_normalization_3 (Batch (None, 256)               1024      \n",
            "_________________________________________________________________\n",
            "dropout_2 (Dropout)          (None, 256)               0         \n",
            "_________________________________________________________________\n",
            "dense_3 (Dense)              (None, 4)                 1028      \n",
            "=================================================================\n",
            "Total params: 1,177,292\n",
            "Trainable params: 1,172,712\n",
            "Non-trainable params: 4,580\n",
            "_________________________________________________________________\n"
          ],
          "name": "stdout"
        }
      ]
    },
    {
      "cell_type": "code",
      "metadata": {
        "colab": {
          "base_uri": "https://localhost:8080/"
        },
        "id": "RZl97276eJDO",
        "outputId": "336f95da-c42d-42b3-b626-6cd8b83056b3"
      },
      "source": [
        "final_model.fit(x=X_train, y=y_train, epochs=30, validation_data=(X_val, y_val), verbose=1)"
      ],
      "execution_count": null,
      "outputs": [
        {
          "output_type": "stream",
          "text": [
            "Epoch 1/30\n",
            "346/346 [==============================] - 5s 6ms/step - loss: 1.2485 - accuracy: 0.8171 - val_loss: 0.3435 - val_accuracy: 0.9712\n",
            "Epoch 2/30\n",
            "346/346 [==============================] - 2s 5ms/step - loss: 0.2813 - accuracy: 0.9808 - val_loss: 0.2173 - val_accuracy: 0.9721\n",
            "Epoch 3/30\n",
            "346/346 [==============================] - 2s 5ms/step - loss: 0.1811 - accuracy: 0.9906 - val_loss: 0.2026 - val_accuracy: 0.9718\n",
            "Epoch 4/30\n",
            "346/346 [==============================] - 2s 5ms/step - loss: 0.1554 - accuracy: 0.9902 - val_loss: 0.1977 - val_accuracy: 0.9728\n",
            "Epoch 5/30\n",
            "346/346 [==============================] - 2s 5ms/step - loss: 0.1438 - accuracy: 0.9919 - val_loss: 0.1920 - val_accuracy: 0.9705\n",
            "Epoch 6/30\n",
            "346/346 [==============================] - 2s 5ms/step - loss: 0.1296 - accuracy: 0.9939 - val_loss: 0.1830 - val_accuracy: 0.9737\n",
            "Epoch 7/30\n",
            "346/346 [==============================] - 2s 5ms/step - loss: 0.1152 - accuracy: 0.9961 - val_loss: 0.1906 - val_accuracy: 0.9699\n",
            "Epoch 8/30\n",
            "346/346 [==============================] - 2s 5ms/step - loss: 0.1113 - accuracy: 0.9958 - val_loss: 0.1747 - val_accuracy: 0.9705\n",
            "Epoch 9/30\n",
            "346/346 [==============================] - 2s 5ms/step - loss: 0.1044 - accuracy: 0.9956 - val_loss: 0.1770 - val_accuracy: 0.9718\n",
            "Epoch 10/30\n",
            "346/346 [==============================] - 2s 5ms/step - loss: 0.1162 - accuracy: 0.9933 - val_loss: 0.1738 - val_accuracy: 0.9724\n",
            "Epoch 11/30\n",
            "346/346 [==============================] - 2s 5ms/step - loss: 0.0922 - accuracy: 0.9966 - val_loss: 0.1986 - val_accuracy: 0.9674\n",
            "Epoch 12/30\n",
            "346/346 [==============================] - 2s 5ms/step - loss: 0.1018 - accuracy: 0.9939 - val_loss: 0.1741 - val_accuracy: 0.9693\n",
            "Epoch 13/30\n",
            "346/346 [==============================] - 2s 5ms/step - loss: 0.0897 - accuracy: 0.9959 - val_loss: 0.1770 - val_accuracy: 0.9712\n",
            "Epoch 14/30\n",
            "346/346 [==============================] - 2s 5ms/step - loss: 0.0862 - accuracy: 0.9939 - val_loss: 0.1866 - val_accuracy: 0.9696\n",
            "Epoch 15/30\n",
            "346/346 [==============================] - 2s 5ms/step - loss: 0.0798 - accuracy: 0.9971 - val_loss: 0.1707 - val_accuracy: 0.9686\n",
            "Epoch 16/30\n",
            "346/346 [==============================] - 2s 5ms/step - loss: 0.0800 - accuracy: 0.9955 - val_loss: 0.1748 - val_accuracy: 0.9712\n",
            "Epoch 17/30\n",
            "346/346 [==============================] - 2s 5ms/step - loss: 0.0818 - accuracy: 0.9946 - val_loss: 0.1716 - val_accuracy: 0.9712\n",
            "Epoch 18/30\n",
            "346/346 [==============================] - 2s 5ms/step - loss: 0.0805 - accuracy: 0.9949 - val_loss: 0.1681 - val_accuracy: 0.9718\n",
            "Epoch 19/30\n",
            "346/346 [==============================] - 2s 5ms/step - loss: 0.0694 - accuracy: 0.9988 - val_loss: 0.1663 - val_accuracy: 0.9731\n",
            "Epoch 20/30\n",
            "346/346 [==============================] - 2s 5ms/step - loss: 0.0660 - accuracy: 0.9980 - val_loss: 0.1725 - val_accuracy: 0.9718\n",
            "Epoch 21/30\n",
            "346/346 [==============================] - 2s 5ms/step - loss: 0.0688 - accuracy: 0.9963 - val_loss: 0.1728 - val_accuracy: 0.9705\n",
            "Epoch 22/30\n",
            "346/346 [==============================] - 2s 5ms/step - loss: 0.0644 - accuracy: 0.9980 - val_loss: 0.1768 - val_accuracy: 0.9689\n",
            "Epoch 23/30\n",
            "346/346 [==============================] - 2s 5ms/step - loss: 0.0635 - accuracy: 0.9972 - val_loss: 0.1705 - val_accuracy: 0.9708\n",
            "Epoch 24/30\n",
            "346/346 [==============================] - 2s 5ms/step - loss: 0.0657 - accuracy: 0.9959 - val_loss: 0.1841 - val_accuracy: 0.9696\n",
            "Epoch 25/30\n",
            "346/346 [==============================] - 2s 5ms/step - loss: 0.0684 - accuracy: 0.9958 - val_loss: 0.1716 - val_accuracy: 0.9708\n",
            "Epoch 26/30\n",
            "346/346 [==============================] - 2s 5ms/step - loss: 0.0569 - accuracy: 0.9979 - val_loss: 0.1631 - val_accuracy: 0.9699\n",
            "Epoch 27/30\n",
            "346/346 [==============================] - 2s 5ms/step - loss: 0.0509 - accuracy: 0.9987 - val_loss: 0.1701 - val_accuracy: 0.9705\n",
            "Epoch 28/30\n",
            "346/346 [==============================] - 2s 5ms/step - loss: 0.0560 - accuracy: 0.9985 - val_loss: 0.1731 - val_accuracy: 0.9702\n",
            "Epoch 29/30\n",
            "346/346 [==============================] - 2s 5ms/step - loss: 0.0502 - accuracy: 0.9987 - val_loss: 0.1728 - val_accuracy: 0.9721\n",
            "Epoch 30/30\n",
            "346/346 [==============================] - 2s 5ms/step - loss: 0.0525 - accuracy: 0.9984 - val_loss: 0.1694 - val_accuracy: 0.9702\n"
          ],
          "name": "stdout"
        },
        {
          "output_type": "execute_result",
          "data": {
            "text/plain": [
              "<tensorflow.python.keras.callbacks.History at 0x7f222d65c9e8>"
            ]
          },
          "metadata": {
            "tags": []
          },
          "execution_count": 20
        }
      ]
    },
    {
      "cell_type": "code",
      "metadata": {
        "colab": {
          "base_uri": "https://localhost:8080/"
        },
        "id": "NYlamoTMh3Jv",
        "outputId": "f8519191-6c64-4800-ca29-d244b8844769"
      },
      "source": [
        "final_model.evaluate(x=X_test, y=y_test)"
      ],
      "execution_count": null,
      "outputs": [
        {
          "output_type": "stream",
          "text": [
            "50/50 [==============================] - 0s 2ms/step - loss: 0.1953 - accuracy: 0.9639\n"
          ],
          "name": "stdout"
        },
        {
          "output_type": "execute_result",
          "data": {
            "text/plain": [
              "[0.19528260827064514, 0.963878333568573]"
            ]
          },
          "metadata": {
            "tags": []
          },
          "execution_count": 21
        }
      ]
    },
    {
      "cell_type": "code",
      "metadata": {
        "id": "sPKdYE6NRe6c"
      },
      "source": [
        "result = final_model.predict(X_test)"
      ],
      "execution_count": null,
      "outputs": []
    },
    {
      "cell_type": "code",
      "metadata": {
        "id": "8DkGq-VBn5ko"
      },
      "source": [
        "from sklearn.metrics import roc_auc_score\r\n",
        "score = roc_auc_score(y_test, result)"
      ],
      "execution_count": null,
      "outputs": []
    },
    {
      "cell_type": "code",
      "metadata": {
        "colab": {
          "base_uri": "https://localhost:8080/"
        },
        "id": "U95wsxIz2Ccw",
        "outputId": "2b6fb114-bf4b-4892-c984-5108c5f4cc66"
      },
      "source": [
        "score, result.shape"
      ],
      "execution_count": null,
      "outputs": [
        {
          "output_type": "execute_result",
          "data": {
            "text/plain": [
              "(0.9936816839210496, (1578, 4))"
            ]
          },
          "metadata": {
            "tags": []
          },
          "execution_count": 24
        }
      ]
    },
    {
      "cell_type": "code",
      "metadata": {
        "colab": {
          "base_uri": "https://localhost:8080/"
        },
        "id": "fE-8VS94ucCW",
        "outputId": "b468201d-2517-4fd6-961c-f6549cb981e5"
      },
      "source": [
        "result"
      ],
      "execution_count": null,
      "outputs": [
        {
          "output_type": "execute_result",
          "data": {
            "text/plain": [
              "array([[9.9832577e-01, 8.2237739e-04, 4.2720060e-04, 4.2461365e-04],\n",
              "       [9.4577456e-01, 4.2931687e-02, 4.8685437e-03, 6.4252922e-03],\n",
              "       [9.9900085e-01, 4.9004477e-04, 2.6648914e-04, 2.4260730e-04],\n",
              "       ...,\n",
              "       [3.3147198e-03, 3.4716157e-03, 1.9236831e-02, 9.7397679e-01],\n",
              "       [1.4886478e-04, 2.5169435e-04, 1.0180684e-04, 9.9949765e-01],\n",
              "       [5.7841360e-04, 4.0801187e-04, 2.1081365e-04, 9.9880266e-01]],\n",
              "      dtype=float32)"
            ]
          },
          "metadata": {
            "tags": []
          },
          "execution_count": 25
        }
      ]
    },
    {
      "cell_type": "code",
      "metadata": {
        "colab": {
          "base_uri": "https://localhost:8080/"
        },
        "id": "a7EUFOQftemm",
        "outputId": "5e1b0935-5de7-4e0f-9111-951a79439528"
      },
      "source": [
        "from numpy import argmax\r\n",
        "from numpy import mean\r\n",
        "from sklearn.metrics import confusion_matrix\r\n",
        "label_index = []\r\n",
        "result_index = []\r\n",
        "for label in y_test:\r\n",
        "  label_index.append(argmax(label))\r\n",
        "for result_ in result:\r\n",
        "  result_index.append(argmax(result_))\r\n",
        "\r\n",
        "cnf_matrix = confusion_matrix(label_index, result_index)\r\n",
        "#print(cnf_matrix)\r\n",
        "#[[1 1 3]\r\n",
        "# [3 2 2]\r\n",
        "# [1 3 1]]\r\n",
        "\r\n",
        "FP = cnf_matrix.sum(axis=0) - np.diag(cnf_matrix)  \r\n",
        "FN = cnf_matrix.sum(axis=1) - np.diag(cnf_matrix)\r\n",
        "TP = np.diag(cnf_matrix)\r\n",
        "TN = cnf_matrix.sum() - (FP + FN + TP)\r\n",
        "\r\n",
        "FP = FP.astype(float)\r\n",
        "FN = FN.astype(float)\r\n",
        "TP = TP.astype(float)\r\n",
        "TN = TN.astype(float)\r\n",
        "\r\n",
        "# Sensitivity, hit rate, recall, or true positive rate\r\n",
        "TPR = TP/(TP+FN)\r\n",
        "# Specificity or true negative rate\r\n",
        "TNR = TN/(TN+FP) \r\n",
        "# Precision or positive predictive value\r\n",
        "PPV = TP/(TP+FP)\r\n",
        "# Negative predictive value\r\n",
        "NPV = TN/(TN+FN)\r\n",
        "# Fall out or false positive rate\r\n",
        "FPR = FP/(FP+TN)\r\n",
        "# False negative rate\r\n",
        "FNR = FN/(TP+FN)\r\n",
        "# False discovery rate\r\n",
        "FDR = FP/(TP+FP)\r\n",
        "# Overall accuracy\r\n",
        "ACC = (TP+TN)/(TP+FP+FN+TN)\r\n",
        "print('Model: '+'DNN'+' | '+'Precision: '+str(PPV)+' | '+'Specificity: '+str(TNR))"
      ],
      "execution_count": null,
      "outputs": [
        {
          "output_type": "stream",
          "text": [
            "Model: DNN | Precision: [0.94153846 0.94827586 0.99618321 0.95171026] | Specificity: [0.98492063 0.9910045  0.99810606 0.97785978]\n"
          ],
          "name": "stdout"
        }
      ]
    },
    {
      "cell_type": "code",
      "metadata": {
        "id": "4XS8NnXHYDYl",
        "colab": {
          "base_uri": "https://localhost:8080/",
          "height": 35
        },
        "outputId": "318e8795-ab15-47da-c311-33aa0aded02c"
      },
      "source": [
        "'''\n",
        "#load model\n",
        "model_loaded = []\n",
        "for i in range(4):\n",
        "  model = keras.models.load_model(SAVE_PATH+'model_'+str(i))\n",
        "  model_loaded.append(model)\n",
        "'''"
      ],
      "execution_count": null,
      "outputs": [
        {
          "output_type": "execute_result",
          "data": {
            "application/vnd.google.colaboratory.intrinsic+json": {
              "type": "string"
            },
            "text/plain": [
              "\"\\n#load model\\nmodel_loaded = []\\nfor i in range(4):\\n  model = keras.models.load_model(SAVE_PATH+'model_'+str(i))\\n  model_loaded.append(model)\\n\""
            ]
          },
          "metadata": {
            "tags": []
          },
          "execution_count": 27
        }
      ]
    },
    {
      "cell_type": "code",
      "metadata": {
        "id": "20WhGoukUl0e",
        "colab": {
          "base_uri": "https://localhost:8080/",
          "height": 108
        },
        "outputId": "8a2234ad-a89b-476d-d375-ea657bc0fd21"
      },
      "source": [
        "'''\r\n",
        "#get pca model\r\n",
        "import joblib\r\n",
        "from sklearn.decomposition import PCA\r\n",
        "\r\n",
        "\r\n",
        "def find_n(explained, fixed_percentage):\r\n",
        "  sum = 0\r\n",
        "  i = 0\r\n",
        "  while sum<=fixed_percentage:\r\n",
        "    sum += explained[i]\r\n",
        "    i += 1\r\n",
        "  return i\r\n",
        "\r\n",
        "\r\n",
        "for model_no in range(4):\r\n",
        "  for data_part in range(3):\r\n",
        "    encoded = booster.encoded_list[model_no*3+data_part]\r\n",
        "    labels = booster.labels_list[model_no*3+data_part]\r\n",
        "\r\n",
        "    decomposer_pca = PCA(n_components=500)\r\n",
        "    de_pca = decomposer_pca.fit_transform(encoded)\r\n",
        "\r\n",
        "    n_de = find_n(decomposer_pca.explained_variance_ratio_, 0.95)\r\n",
        "    decomposer_pca = PCA(n_components=n_de)\r\n",
        "    de_pca = decomposer_pca.fit_transform(encoded)\r\n",
        "\r\n",
        "    file_name = SAVE_PATH+'model_'+str(model_no)+'/pca_transformer.joblib'\r\n",
        "    joblib.dump(decomposer_pca, file_name)\r\n",
        "'''"
      ],
      "execution_count": null,
      "outputs": [
        {
          "output_type": "execute_result",
          "data": {
            "application/vnd.google.colaboratory.intrinsic+json": {
              "type": "string"
            },
            "text/plain": [
              "\"\\n#get pca model\\nimport joblib\\nfrom sklearn.decomposition import PCA\\n\\n\\ndef find_n(explained, fixed_percentage):\\n  sum = 0\\n  i = 0\\n  while sum<=fixed_percentage:\\n    sum += explained[i]\\n    i += 1\\n  return i\\n\\n\\nfor model_no in range(4):\\n  for data_part in range(3):\\n    encoded = booster.encoded_list[model_no*3+data_part]\\n    labels = booster.labels_list[model_no*3+data_part]\\n\\n    decomposer_pca = PCA(n_components=500)\\n    de_pca = decomposer_pca.fit_transform(encoded)\\n\\n    n_de = find_n(decomposer_pca.explained_variance_ratio_, 0.95)\\n    decomposer_pca = PCA(n_components=n_de)\\n    de_pca = decomposer_pca.fit_transform(encoded)\\n\\n    file_name = SAVE_PATH+'model_'+str(model_no)+'/pca_transformer.joblib'\\n    joblib.dump(decomposer_pca, file_name)\\n\""
            ]
          },
          "metadata": {
            "tags": []
          },
          "execution_count": 28
        }
      ]
    },
    {
      "cell_type": "code",
      "metadata": {
        "id": "odbtO-vvRyjN",
        "colab": {
          "base_uri": "https://localhost:8080/",
          "height": 126
        },
        "outputId": "153e1063-ace4-43d6-deaf-91bef0482afa"
      },
      "source": [
        "'''\r\n",
        "def plot_encode(encode, labels, part):\r\n",
        "  model_name = 'Part '+str(part)+': model_full_encode'\r\n",
        "  fig = plt.figure(part, figsize=[3*7, 7])\r\n",
        "  axes = fig.subplots(1, 3)\r\n",
        "\r\n",
        "  from sklearn.manifold import TSNE\r\n",
        "  decomposer_tsne = TSNE(n_components=2)\r\n",
        "  de_tsne = decomposer_tsne.fit_transform(encode)\r\n",
        "  scatter = axes[0].scatter(x=de_tsne[:,0], y=de_tsne[:,1], c=labels)\r\n",
        "  legend1 = axes[0].legend(*scatter.legend_elements(), loc=\"best\", title=\"Classes\")\r\n",
        "  axes[0].set_title(model_name+'---Tsne')\r\n",
        "  axes[0].add_artist(legend1)\r\n",
        "\r\n",
        "  from sklearn.manifold import Isomap\r\n",
        "  decomposer_iso = Isomap(n_components=2, n_neighbors=10)\r\n",
        "  de_iso = decomposer_iso.fit_transform(encode)\r\n",
        "  scatter = axes[1].scatter(x=de_iso[:,0], y=de_iso[:,1], c=labels)\r\n",
        "  legend1 = axes[1].legend(*scatter.legend_elements(), loc=\"best\", title=\"Classes\")\r\n",
        "  axes[1].set_title(model_name+'---Isomap')\r\n",
        "  axes[1].add_artist(legend1)\r\n",
        "\r\n",
        "  from sklearn.decomposition import PCA\r\n",
        "  decomposer_pca = PCA(n_components=2)\r\n",
        "  de_pca = decomposer_pca.fit_transform(encode)\r\n",
        "  scatter = axes[2].scatter(x=de_pca[:,0], y=de_pca[:,1], c=labels)\r\n",
        "  legend1 = axes[2].legend(*scatter.legend_elements(), loc=\"best\", title=\"Classes\")\r\n",
        "  axes[2].set_title(model_name+'---PCA')\r\n",
        "  axes[2].add_artist(legend1)\r\n",
        "  print('Done!')\r\n",
        "\r\n",
        "plot_encode(booster.data_pca_fullencode[0], booster.labels_list[0], 0)\r\n",
        "'''"
      ],
      "execution_count": null,
      "outputs": [
        {
          "output_type": "execute_result",
          "data": {
            "application/vnd.google.colaboratory.intrinsic+json": {
              "type": "string"
            },
            "text/plain": [
              "'\\ndef plot_encode(encode, labels, part):\\n  model_name = \\'Part \\'+str(part)+\\': model_full_encode\\'\\n  fig = plt.figure(part, figsize=[3*7, 7])\\n  axes = fig.subplots(1, 3)\\n\\n  from sklearn.manifold import TSNE\\n  decomposer_tsne = TSNE(n_components=2)\\n  de_tsne = decomposer_tsne.fit_transform(encode)\\n  scatter = axes[0].scatter(x=de_tsne[:,0], y=de_tsne[:,1], c=labels)\\n  legend1 = axes[0].legend(*scatter.legend_elements(), loc=\"best\", title=\"Classes\")\\n  axes[0].set_title(model_name+\\'---Tsne\\')\\n  axes[0].add_artist(legend1)\\n\\n  from sklearn.manifold import Isomap\\n  decomposer_iso = Isomap(n_components=2, n_neighbors=10)\\n  de_iso = decomposer_iso.fit_transform(encode)\\n  scatter = axes[1].scatter(x=de_iso[:,0], y=de_iso[:,1], c=labels)\\n  legend1 = axes[1].legend(*scatter.legend_elements(), loc=\"best\", title=\"Classes\")\\n  axes[1].set_title(model_name+\\'---Isomap\\')\\n  axes[1].add_artist(legend1)\\n\\n  from sklearn.decomposition import PCA\\n  decomposer_pca = PCA(n_components=2)\\n  de_pca = decomposer_pca.fit_transform(encode)\\n  scatter = axes[2].scatter(x=de_pca[:,0], y=de_pca[:,1], c=labels)\\n  legend1 = axes[2].legend(*scatter.legend_elements(), loc=\"best\", title=\"Classes\")\\n  axes[2].set_title(model_name+\\'---PCA\\')\\n  axes[2].add_artist(legend1)\\n  print(\\'Done!\\')\\n\\nplot_encode(booster.data_pca_fullencode[0], booster.labels_list[0], 0)\\n'"
            ]
          },
          "metadata": {
            "tags": []
          },
          "execution_count": 29
        }
      ]
    },
    {
      "cell_type": "code",
      "metadata": {
        "id": "h378-zr_UEaT",
        "colab": {
          "base_uri": "https://localhost:8080/",
          "height": 72
        },
        "outputId": "24f3b747-4ecd-42c6-d39e-04000741daa4"
      },
      "source": [
        "'''\r\n",
        "#check labels\r\n",
        "for data_part in range(3):\r\n",
        "  check01 = booster.labels_list[0*3+data_part] == booster.labels_list[1*3+data_part]\r\n",
        "  check02 = booster.labels_list[0*3+data_part] == booster.labels_list[2*3+data_part]\r\n",
        "  for i in range(check01.shape[0]):\r\n",
        "    if check01[i]:\r\n",
        "      pass\r\n",
        "    else:\r\n",
        "      print(i)\r\n",
        "\r\n",
        "  for i in range(check01.shape[0]):\r\n",
        "    if check02[i]:\r\n",
        "      pass\r\n",
        "    else:\r\n",
        "      print(i)\r\n",
        "'''"
      ],
      "execution_count": null,
      "outputs": [
        {
          "output_type": "execute_result",
          "data": {
            "application/vnd.google.colaboratory.intrinsic+json": {
              "type": "string"
            },
            "text/plain": [
              "'\\n#check labels\\nfor data_part in range(3):\\n  check01 = booster.labels_list[0*3+data_part] == booster.labels_list[1*3+data_part]\\n  check02 = booster.labels_list[0*3+data_part] == booster.labels_list[2*3+data_part]\\n  for i in range(check01.shape[0]):\\n    if check01[i]:\\n      pass\\n    else:\\n      print(i)\\n\\n  for i in range(check01.shape[0]):\\n    if check02[i]:\\n      pass\\n    else:\\n      print(i)\\n'"
            ]
          },
          "metadata": {
            "tags": []
          },
          "execution_count": 30
        }
      ]
    },
    {
      "cell_type": "code",
      "metadata": {
        "id": "WfrNFl7bne7w",
        "colab": {
          "base_uri": "https://localhost:8080/",
          "height": 174
        },
        "outputId": "750cc405-b137-4182-e247-1a74858e871f"
      },
      "source": [
        "while True:pass"
      ],
      "execution_count": null,
      "outputs": [
        {
          "output_type": "error",
          "ename": "KeyboardInterrupt",
          "evalue": "ignored",
          "traceback": [
            "\u001b[0;31m---------------------------------------------------------------------------\u001b[0m",
            "\u001b[0;31mKeyboardInterrupt\u001b[0m                         Traceback (most recent call last)",
            "\u001b[0;32m<ipython-input-31-534b7a74019f>\u001b[0m in \u001b[0;36m<module>\u001b[0;34m()\u001b[0m\n\u001b[0;32m----> 1\u001b[0;31m \u001b[0;32mwhile\u001b[0m \u001b[0;32mTrue\u001b[0m\u001b[0;34m:\u001b[0m\u001b[0;32mpass\u001b[0m\u001b[0;34m\u001b[0m\u001b[0;34m\u001b[0m\u001b[0m\n\u001b[0m",
            "\u001b[0;31mKeyboardInterrupt\u001b[0m: "
          ]
        }
      ]
    }
  ]
}